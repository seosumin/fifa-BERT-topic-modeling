{
 "cells": [
  {
   "cell_type": "markdown",
   "metadata": {},
   "source": [
    "# 1. Preprocessing"
   ]
  },
  {
   "cell_type": "markdown",
   "metadata": {},
   "source": [
    "### 1-1. Import Library"
   ]
  },
  {
   "cell_type": "code",
   "execution_count": 1,
   "metadata": {},
   "outputs": [],
   "source": [
    "# Crawler Package\n",
    "import urllib.request as req\n",
    "from bs4 import BeautifulSoup\n",
    "from selenium import webdriver\n",
    "from selenium.webdriver.common.keys import Keys\n",
    "import time\n",
    "\n",
    "# Data Preprocessing Package\n",
    "import re\n",
    "import pandas as pd\n",
    "import os"
   ]
  },
  {
   "cell_type": "markdown",
   "metadata": {},
   "source": [
    "### 1-2. Define Path & Selenium start"
   ]
  },
  {
   "cell_type": "code",
   "execution_count": 6,
   "metadata": {},
   "outputs": [],
   "source": [
    "DATA_FILE_NAME = \"./Topic_Modeling/1.Data/df_nexon.xlsx\" # 이름 설정\n",
    "DRIVER_PATH = './Resources/chromedriver.exe' # 크롬드라이버의 위치 \n",
    "\n",
    "driver = webdriver.Chrome(DRIVER_PATH) # 드라이버 객체 호출"
   ]
  },
  {
   "cell_type": "code",
   "execution_count": 157,
   "metadata": {
    "collapsed": true
   },
   "outputs": [
    {
     "name": "stdout",
     "output_type": "stream",
     "text": [
      "2000\n",
      "2000\n",
      "2000\n",
      "2000\n",
      "2000\n",
      "4000\n",
      "4000\n",
      "4000\n",
      "4000\n",
      "4000\n",
      "6000\n",
      "6000\n",
      "6000\n",
      "6000\n",
      "6000\n",
      "8000\n",
      "8000\n",
      "8000\n",
      "8000\n",
      "8000\n",
      "10000\n",
      "10000\n",
      "10000\n",
      "10000\n",
      "10000\n",
      "12000\n",
      "12000\n",
      "12000\n",
      "12000\n",
      "12000\n"
     ]
    },
    {
     "ename": "IndexError",
     "evalue": "list index out of range",
     "output_type": "error",
     "traceback": [
      "\u001b[1;31m---------------------------------------------------------------------------\u001b[0m",
      "\u001b[1;31mIndexError\u001b[0m                                Traceback (most recent call last)",
      "\u001b[1;32m<ipython-input-157-1b130d9da29c>\u001b[0m in \u001b[0;36m<module>\u001b[1;34m\u001b[0m\n\u001b[0;32m     13\u001b[0m         \u001b[0mtitle_class\u001b[0m\u001b[1;33m=\u001b[0m\u001b[0msoup\u001b[0m\u001b[1;33m.\u001b[0m\u001b[0mfind_all\u001b[0m\u001b[1;33m(\u001b[0m\u001b[1;34m'span'\u001b[0m\u001b[1;33m,\u001b[0m\u001b[1;33m{\u001b[0m\u001b[1;34m\"class\"\u001b[0m\u001b[1;33m:\u001b[0m \u001b[1;34m\"txt\"\u001b[0m\u001b[1;33m}\u001b[0m\u001b[1;33m)\u001b[0m\u001b[1;33m\u001b[0m\u001b[1;33m\u001b[0m\u001b[0m\n\u001b[0;32m     14\u001b[0m         \u001b[1;32mfor\u001b[0m \u001b[0mi\u001b[0m \u001b[1;32min\u001b[0m \u001b[0mrange\u001b[0m\u001b[1;33m(\u001b[0m\u001b[1;36m1\u001b[0m\u001b[1;33m,\u001b[0m\u001b[1;36m40\u001b[0m\u001b[1;33m,\u001b[0m \u001b[1;36m2\u001b[0m\u001b[1;33m)\u001b[0m\u001b[1;33m:\u001b[0m\u001b[1;33m\u001b[0m\u001b[1;33m\u001b[0m\u001b[0m\n\u001b[1;32m---> 15\u001b[1;33m             \u001b[0mtitle_list\u001b[0m\u001b[1;33m.\u001b[0m\u001b[0mappend\u001b[0m\u001b[1;33m(\u001b[0m\u001b[0mtitle_class\u001b[0m\u001b[1;33m[\u001b[0m\u001b[0mi\u001b[0m\u001b[1;33m]\u001b[0m\u001b[1;33m.\u001b[0m\u001b[0mget_text\u001b[0m\u001b[1;33m(\u001b[0m\u001b[0mstrip\u001b[0m\u001b[1;33m=\u001b[0m\u001b[1;32mTrue\u001b[0m\u001b[1;33m)\u001b[0m\u001b[1;33m)\u001b[0m\u001b[1;33m\u001b[0m\u001b[1;33m\u001b[0m\u001b[0m\n\u001b[0m\u001b[0;32m     16\u001b[0m         \u001b[1;32mfor\u001b[0m \u001b[0mi\u001b[0m \u001b[1;32min\u001b[0m \u001b[0mrange\u001b[0m\u001b[1;33m(\u001b[0m\u001b[1;36m0\u001b[0m\u001b[1;33m,\u001b[0m\u001b[1;36m20\u001b[0m\u001b[1;33m)\u001b[0m\u001b[1;33m:\u001b[0m\u001b[1;33m\u001b[0m\u001b[1;33m\u001b[0m\u001b[0m\n\u001b[0;32m     17\u001b[0m             \u001b[0mday_list\u001b[0m\u001b[1;33m.\u001b[0m\u001b[0mappend\u001b[0m\u001b[1;33m(\u001b[0m\u001b[0msoup\u001b[0m\u001b[1;33m.\u001b[0m\u001b[0mfind_all\u001b[0m\u001b[1;33m(\u001b[0m\u001b[1;34m'span'\u001b[0m\u001b[1;33m,\u001b[0m\u001b[1;33m{\u001b[0m\u001b[1;34m\"class\"\u001b[0m\u001b[1;33m:\u001b[0m \u001b[1;34m\"td date\"\u001b[0m\u001b[1;33m}\u001b[0m\u001b[1;33m)\u001b[0m\u001b[1;33m[\u001b[0m\u001b[0mi\u001b[0m\u001b[1;33m]\u001b[0m\u001b[1;33m[\u001b[0m\u001b[1;34m'data-no'\u001b[0m\u001b[1;33m]\u001b[0m\u001b[1;33m)\u001b[0m\u001b[1;33m\u001b[0m\u001b[1;33m\u001b[0m\u001b[0m\n",
      "\u001b[1;31mIndexError\u001b[0m: list index out of range"
     ]
    }
   ],
   "source": [
    "title_list=[]\n",
    "day_list=[]\n",
    "reco_list=[]\n",
    "view_list=[]\n",
    "content_list=[]\n",
    "\n",
    "stop_num=0\n",
    "while True:\n",
    "\n",
    "        stop_num+=1\n",
    "        html = driver.page_source\n",
    "        soup = BeautifulSoup(html, 'html.parser')\n",
    "        title_class=soup.find_all('span',{\"class\": \"txt\"})\n",
    "        for i in range(1,40, 2):\n",
    "            title_list.append(title_class[i].get_text(strip=True))\n",
    "        for i in range(0,20):\n",
    "            day_list.append(soup.find_all('span',{\"class\": \"td date\"})[i]['data-no'])\n",
    "            reco_list.append(soup.find_all('span',{\"class\": \"td like\"})[i].get_text())\n",
    "            view_list.append(soup.find_all('span',{\"class\": \"td count\"})[i].get_text())\n",
    "\n",
    "        time.sleep(1)\n",
    "        body_class=driver.find_elements_by_xpath('//*[@id=\"divDay\"]/div[2]/div[1]/div')\n",
    "        body_class[0].get_attribute('style')\n",
    "        driver.execute_script(\"arguments[0].setAttribute('style', 'display: block;')\", body_class[0])\n",
    "        body_list=soup.find_all('div',{\"class\": \"text_box\"})\n",
    "        for body in body_list:\n",
    "            content_list.append(body.get_text(strip=True))\n",
    "        driver.find_elements_by_xpath('//*[@id=\"divListPart\"]/div[2]/div/a[4]')[0].click()\n",
    "\n",
    "        if stop_num % 100 ==0:\n",
    "            print(len(title_list))\n",
    "            print(len(day_list))\n",
    "            print(len(reco_list))\n",
    "            print(len(view_list))\n",
    "            print(len(content_list))\n",
    "\n",
    "        if stop_num==760:\n",
    "            break"
   ]
  },
  {
   "cell_type": "code",
   "execution_count": 172,
   "metadata": {},
   "outputs": [],
   "source": [
    "days_list=[]\n",
    "for day in day_list:\n",
    "    days_list.append(day[0:10])"
   ]
  },
  {
   "cell_type": "code",
   "execution_count": 175,
   "metadata": {},
   "outputs": [],
   "source": [
    "df_fifa=pd.DataFrame()\n",
    "df_fifa['day']=days_list\n",
    "df_fifa['title']=title_list[:13360]\n",
    "df_fifa['content']=content_list\n",
    "df_fifa['view']=view_list\n",
    "df_fifa['hit']=reco_list"
   ]
  },
  {
   "cell_type": "code",
   "execution_count": 176,
   "metadata": {
    "scrolled": false
   },
   "outputs": [
    {
     "data": {
      "text/html": [
       "<div>\n",
       "<style scoped>\n",
       "    .dataframe tbody tr th:only-of-type {\n",
       "        vertical-align: middle;\n",
       "    }\n",
       "\n",
       "    .dataframe tbody tr th {\n",
       "        vertical-align: top;\n",
       "    }\n",
       "\n",
       "    .dataframe thead th {\n",
       "        text-align: right;\n",
       "    }\n",
       "</style>\n",
       "<table border=\"1\" class=\"dataframe\">\n",
       "  <thead>\n",
       "    <tr style=\"text-align: right;\">\n",
       "      <th></th>\n",
       "      <th>day</th>\n",
       "      <th>title</th>\n",
       "      <th>content</th>\n",
       "      <th>view</th>\n",
       "      <th>hit</th>\n",
       "    </tr>\n",
       "  </thead>\n",
       "  <tbody>\n",
       "    <tr>\n",
       "      <th>0</th>\n",
       "      <td>2021-09-09</td>\n",
       "      <td>뇌없고 무능한 개발진들아 ~ 욕안했다 글삭제하지마라</td>\n",
       "      <td>ㅋㅋㅋㅋㅋㅋㅋㅋㅋㅋㅋㅋㅋㅋ 이게 게임이냐?ㅋㅋㅋㅋㅋㅋㅋㅋㅋㅋㅋㅋㅋㅋ패스는 했다하면 ...</td>\n",
       "      <td>154</td>\n",
       "      <td>4</td>\n",
       "    </tr>\n",
       "    <tr>\n",
       "      <th>1</th>\n",
       "      <td>2021-09-09</td>\n",
       "      <td>피파에 현질하기 vs 롤에 현질하기</td>\n",
       "      <td>ㅇㅇ?</td>\n",
       "      <td>276</td>\n",
       "      <td>0</td>\n",
       "    </tr>\n",
       "    <tr>\n",
       "      <th>2</th>\n",
       "      <td>2021-09-09</td>\n",
       "      <td>얘들아 지금 현질 유도 기간이다</td>\n",
       "      <td>체감 개 그지같은거 일부러 현질하게 만드는거니까 참고하자 얘들아개 ㅈ망 그래픽 쪼가...</td>\n",
       "      <td>235</td>\n",
       "      <td>1</td>\n",
       "    </tr>\n",
       "    <tr>\n",
       "      <th>3</th>\n",
       "      <td>2021-09-09</td>\n",
       "      <td>도G드래곤-무전</td>\n",
       "      <td>도G드래곤-무전</td>\n",
       "      <td>316</td>\n",
       "      <td>0</td>\n",
       "    </tr>\n",
       "    <tr>\n",
       "      <th>4</th>\n",
       "      <td>2021-09-09</td>\n",
       "      <td>개 ㅈ망게임 공이 키퍼를 그냥 지나감?</td>\n",
       "      <td>아주그냥 캐**는거에만 눈이 빨갛지?</td>\n",
       "      <td>184</td>\n",
       "      <td>4</td>\n",
       "    </tr>\n",
       "  </tbody>\n",
       "</table>\n",
       "</div>"
      ],
      "text/plain": [
       "          day                         title  \\\n",
       "0  2021-09-09  뇌없고 무능한 개발진들아 ~ 욕안했다 글삭제하지마라   \n",
       "1  2021-09-09           피파에 현질하기 vs 롤에 현질하기   \n",
       "2  2021-09-09             얘들아 지금 현질 유도 기간이다   \n",
       "3  2021-09-09                      도G드래곤-무전   \n",
       "4  2021-09-09         개 ㅈ망게임 공이 키퍼를 그냥 지나감?   \n",
       "\n",
       "                                             content view hit  \n",
       "0  ㅋㅋㅋㅋㅋㅋㅋㅋㅋㅋㅋㅋㅋㅋ 이게 게임이냐?ㅋㅋㅋㅋㅋㅋㅋㅋㅋㅋㅋㅋㅋㅋ패스는 했다하면 ...  154   4  \n",
       "1                                                ㅇㅇ?  276   0  \n",
       "2  체감 개 그지같은거 일부러 현질하게 만드는거니까 참고하자 얘들아개 ㅈ망 그래픽 쪼가...  235   1  \n",
       "3                                           도G드래곤-무전  316   0  \n",
       "4                               아주그냥 캐**는거에만 눈이 빨갛지?  184   4  "
      ]
     },
     "execution_count": 176,
     "metadata": {},
     "output_type": "execute_result"
    }
   ],
   "source": [
    "df_fifa.head()"
   ]
  },
  {
   "cell_type": "code",
   "execution_count": 7,
   "metadata": {},
   "outputs": [
    {
     "data": {
      "text/plain": [
       "'./Topic_Modeling/1.Data/df_nexon.xlsx'"
      ]
     },
     "execution_count": 7,
     "metadata": {},
     "output_type": "execute_result"
    }
   ],
   "source": [
    "df_fifa.to_excel(DATA_FILE_NAME)"
   ]
  }
 ],
 "metadata": {
  "kernelspec": {
   "display_name": "Python 3",
   "language": "python",
   "name": "python3"
  },
  "language_info": {
   "codemirror_mode": {
    "name": "ipython",
    "version": 3
   },
   "file_extension": ".py",
   "mimetype": "text/x-python",
   "name": "python",
   "nbconvert_exporter": "python",
   "pygments_lexer": "ipython3",
   "version": "3.7.9"
  }
 },
 "nbformat": 4,
 "nbformat_minor": 4
}
